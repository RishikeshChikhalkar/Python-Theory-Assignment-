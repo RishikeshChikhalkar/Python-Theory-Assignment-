{
 "cells": [
  {
   "cell_type": "code",
   "execution_count": 9,
   "id": "67c92eae",
   "metadata": {},
   "outputs": [
    {
     "name": "stdout",
     "output_type": "stream",
     "text": [
      "9\n",
      "Hello\n",
      "<class 'float'>\n",
      "500\n",
      "3.0\n",
      "90\n",
      "<class 'int'>\n"
     ]
    }
   ],
   "source": [
    "#1. In the below elements which of them are values or an expression? eg:- values can be integer or string and expressions will be mathematical operators.\n",
    "\n",
    "print(9*1)\n",
    "\n",
    "print('Hello')\n",
    "\n",
    "print(type(-87.1))\n",
    "\n",
    "print(900-400)\n",
    "\n",
    "print(12/4)\n",
    "\n",
    "print(50+40)\n",
    "\n",
    "print(type(6))"
   ]
  },
  {
   "cell_type": "code",
   "execution_count": 16,
   "id": "a386da89",
   "metadata": {},
   "outputs": [],
   "source": [
    "#2. What is the difference between string and variable?\n",
    "\n",
    " #               String                                                            Variable\n",
    " #       1. String is Data type.                                            1. Variable store the Data.   \n",
    " #       2.Class of String is str.                                          2. Class of Variable depends on which\n",
    "#                                                                              type of Data it store.\n",
    "                                                                              \n",
    " #       3.For e.g.                                                         3.For e.g. \n",
    " #        \"Python is best\"                                                   num=10\n",
    "                                                                                                                         "
   ]
  },
  {
   "cell_type": "code",
   "execution_count": 15,
   "id": "fca59ecf",
   "metadata": {},
   "outputs": [],
   "source": [
    "#3. Describe three different data types.\n",
    "\n",
    "#   1. Integer :- Integer contains whole numeric value.\n",
    "#                 Class of Integer is int.\n",
    "#                 e.g. a=12\n",
    "\n",
    "#   2. Float  :- Float contains Decimal value.\n",
    "#                its Class is Float.\n",
    "#                 e.g. b=12.34\n",
    "\n",
    "#   3. boolean :- Boolean contains True or False value.\n",
    "#                Class of Boolean is bool.\n",
    "#                e.g. c=True \n",
    "\n",
    "#   4. Complex :- Comlpex contains real value and imaginary value.\n",
    "#                 Class of complex is comp.\n",
    "#                e.g. d=3+4j  // 3 is real value  &&  4j is imaginary value."
   ]
  },
  {
   "cell_type": "code",
   "execution_count": null,
   "id": "efdf645c",
   "metadata": {},
   "outputs": [],
   "source": [
    "#4. What is an expression made up of? What do all expressions do?\n",
    "\n",
    "#  Exprasession is made up of operator and oprand . It is used to interprete the value.\n",
    "# An Expression is evaluated as per presedence of its operator.\n",
    "# Every Expression performs specific task and gives specific result.\n",
    "\n",
    "# Arithmatic Expression :- An arithmatic expressin is combination of numeric value and operators.\n",
    "\n",
    "#              Oprators                 Syntax                  Function\n",
    "#                  +                     X + Y                  Addition\n",
    "#                  -                     X - Y                  Substraction\n",
    "#                  *                     X * Y                  Multiplication\n",
    "#                  /                     X / Y                  Division\n",
    "#                  %                     X % Y                  Modulo (it gives remainder)\n",
    "#                  **                    X ** Y                 Exponential (power)\n"
   ]
  },
  {
   "cell_type": "code",
   "execution_count": null,
   "id": "945dfda1",
   "metadata": {},
   "outputs": [],
   "source": [
    "#5. This assignment statements, like spam = 10. What is the difference between an expression and a statement?\n",
    "\n",
    "# Expression is combination of function and value that are combined and interpreted by the compiler to create result.\n",
    "# e.g. spam = 10 ,It represent that spam have positive integer value 10.\n",
    "\n",
    "# Statement is Independent unit of execution which does not return any value."
   ]
  },
  {
   "cell_type": "code",
   "execution_count": 1,
   "id": "1f4871ec",
   "metadata": {},
   "outputs": [
    {
     "data": {
      "text/plain": [
       "23"
      ]
     },
     "execution_count": 1,
     "metadata": {},
     "output_type": "execute_result"
    }
   ],
   "source": [
    "#6. After running the following code, what does the variable bacon contain?\n",
    "\n",
    "bacon = 22\n",
    "bacon + 1\n",
    "\n",
    "# bacon variable stores integer value 22 after increment by 1 it stores 23. Hence the output is 23."
   ]
  },
  {
   "cell_type": "code",
   "execution_count": 2,
   "id": "12d0354d",
   "metadata": {},
   "outputs": [
    {
     "data": {
      "text/plain": [
       "'spamspamspam'"
      ]
     },
     "execution_count": 2,
     "metadata": {},
     "output_type": "execute_result"
    }
   ],
   "source": [
    "#7. What should the values of the following two terms be?\n",
    "\n",
    "\"spam\" + \"spamspam\"  # '+' concatinate both the string.\n"
   ]
  },
  {
   "cell_type": "code",
   "execution_count": 3,
   "id": "9884b09b",
   "metadata": {},
   "outputs": [
    {
     "data": {
      "text/plain": [
       "'spamspamspam'"
      ]
     },
     "execution_count": 3,
     "metadata": {},
     "output_type": "execute_result"
    }
   ],
   "source": [
    "\"spam\" * 3           # '*' it multiply string.\n"
   ]
  },
  {
   "cell_type": "code",
   "execution_count": null,
   "id": "0341adc7",
   "metadata": {},
   "outputs": [],
   "source": [
    "#8. Why is eggs a valid variable name while 100 is invalid?\n",
    "\n",
    "# A variable name cannot start with Number. Hence egg is valid variable name while 100 is invalid.\n"
   ]
  },
  {
   "cell_type": "code",
   "execution_count": 4,
   "id": "1faa971d",
   "metadata": {},
   "outputs": [
    {
     "name": "stdout",
     "output_type": "stream",
     "text": [
      "90\n",
      "<class 'int'>\n"
     ]
    }
   ],
   "source": [
    "#9. What three functions can be used to get the integer, floating-point number, or string version of a value?\n",
    "\n",
    "# Integer \n",
    "a=int(90)\n",
    "print(a)\n",
    "print(type(a))\n"
   ]
  },
  {
   "cell_type": "code",
   "execution_count": 5,
   "id": "6a815d6a",
   "metadata": {},
   "outputs": [
    {
     "name": "stdout",
     "output_type": "stream",
     "text": [
      "20.3\n",
      "<class 'float'>\n"
     ]
    }
   ],
   "source": [
    "# Floating point number\n",
    "b=float(20.3)\n",
    "print(b)\n",
    "print(type(b))"
   ]
  },
  {
   "cell_type": "code",
   "execution_count": 7,
   "id": "ee86d0f9",
   "metadata": {},
   "outputs": [
    {
     "name": "stdout",
     "output_type": "stream",
     "text": [
      "abc\n",
      "<class 'str'>\n"
     ]
    }
   ],
   "source": [
    "# String\n",
    "c=str(\"abc\")\n",
    "print(c)\n",
    "print(type(c))"
   ]
  },
  {
   "cell_type": "code",
   "execution_count": 8,
   "id": "04d626cd",
   "metadata": {},
   "outputs": [
    {
     "ename": "TypeError",
     "evalue": "can only concatenate str (not \"int\") to str",
     "output_type": "error",
     "traceback": [
      "\u001b[1;31m---------------------------------------------------------------------------\u001b[0m",
      "\u001b[1;31mTypeError\u001b[0m                                 Traceback (most recent call last)",
      "\u001b[1;32m~\\AppData\\Local\\Temp\\ipykernel_11780\\3669175476.py\u001b[0m in \u001b[0;36m<module>\u001b[1;34m\u001b[0m\n\u001b[0;32m      1\u001b[0m \u001b[1;31m#10. Why does this expression cause an error? How can you fix it?\u001b[0m\u001b[1;33m\u001b[0m\u001b[1;33m\u001b[0m\u001b[0m\n\u001b[1;32m----> 2\u001b[1;33m \u001b[1;34m\"I have eaten & \"\u001b[0m \u001b[1;33m+\u001b[0m \u001b[1;36m99\u001b[0m \u001b[1;33m+\u001b[0m \u001b[1;34m\"; burritos\"\u001b[0m\u001b[1;33m\u001b[0m\u001b[1;33m\u001b[0m\u001b[0m\n\u001b[0m\u001b[0;32m      3\u001b[0m \u001b[1;33m\u001b[0m\u001b[0m\n\u001b[0;32m      4\u001b[0m \u001b[1;33m\u001b[0m\u001b[0m\n",
      "\u001b[1;31mTypeError\u001b[0m: can only concatenate str (not \"int\") to str"
     ]
    }
   ],
   "source": [
    "#10. Why does this expression cause an error? How can you fix it?\n",
    "\"I have eaten & \" + 99 + \"; burritos\" \n",
    "\n",
    "#above expression shows TypingError because String cannot concatinate with integer so we have to typecast the integer value 99 in string.\n"
   ]
  },
  {
   "cell_type": "code",
   "execution_count": 11,
   "id": "efb73c03",
   "metadata": {},
   "outputs": [
    {
     "data": {
      "text/plain": [
       "'I have eaten 99 burritos'"
      ]
     },
     "execution_count": 11,
     "metadata": {},
     "output_type": "execute_result"
    }
   ],
   "source": [
    "\"I have eaten \" +str( 99 )+ \" burritos\" "
   ]
  }
 ],
 "metadata": {
  "kernelspec": {
   "display_name": "Python 3 (ipykernel)",
   "language": "python",
   "name": "python3"
  },
  "language_info": {
   "codemirror_mode": {
    "name": "ipython",
    "version": 3
   },
   "file_extension": ".py",
   "mimetype": "text/x-python",
   "name": "python",
   "nbconvert_exporter": "python",
   "pygments_lexer": "ipython3",
   "version": "3.9.13"
  }
 },
 "nbformat": 4,
 "nbformat_minor": 5
}
