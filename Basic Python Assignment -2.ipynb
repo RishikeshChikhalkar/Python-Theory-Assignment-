{
 "cells": [
  {
   "cell_type": "markdown",
   "id": "c204bec5",
   "metadata": {},
   "source": [
    "# Python Assignment-2"
   ]
  },
  {
   "cell_type": "markdown",
   "id": "95afcd86",
   "metadata": {},
   "source": [
    "###### 1.What are the two values of the Boolean data type? How do you write them?\n"
   ]
  },
  {
   "cell_type": "code",
   "execution_count": 1,
   "id": "2ca05cf9",
   "metadata": {},
   "outputs": [],
   "source": [
    "#  True and False are two values of boolean data type.\n",
    "#  always we have to write first latter capital. \n",
    "#  e.g. True\n",
    "#       False"
   ]
  },
  {
   "cell_type": "markdown",
   "id": "228eed63",
   "metadata": {},
   "source": [
    "###### 2. What are the three different types of Boolean operators?"
   ]
  },
  {
   "cell_type": "code",
   "execution_count": 2,
   "id": "4691634e",
   "metadata": {},
   "outputs": [],
   "source": [
    "# Three type of boolean operators:\n",
    "#  and\n",
    "#  not\n",
    "#  or"
   ]
  },
  {
   "cell_type": "markdown",
   "id": "9a2879f0",
   "metadata": {},
   "source": [
    "###### 3. Make a list of each Boolean operator&#39;s truth tables (i.e. every possible combination of Boolean values for the operator and what it evaluate ).\n"
   ]
  },
  {
   "cell_type": "code",
   "execution_count": 3,
   "id": "b7523adb",
   "metadata": {},
   "outputs": [],
   "source": [
    "# and  :- truth table \n",
    "\n",
    "#  False + False = False\n",
    "#  False + True = False\n",
    "#  True + False = False\n",
    "#  True + True = True\n",
    "\n",
    "# not  :-\n",
    "\n",
    "#   False = True\n",
    "#   True = False\n",
    "\n",
    "# or   :-\n",
    "\n",
    "#  False + False =False\n",
    "#  False + True =True\n",
    "#  True + False =True\n",
    "#  True + True = True\n",
    "\n"
   ]
  },
  {
   "cell_type": "markdown",
   "id": "92cc05b7",
   "metadata": {},
   "source": [
    "###### 4. What are the values of the following expressions?"
   ]
  },
  {
   "cell_type": "code",
   "execution_count": 4,
   "id": "cce9f316",
   "metadata": {},
   "outputs": [
    {
     "data": {
      "text/plain": [
       "True"
      ]
     },
     "execution_count": 4,
     "metadata": {},
     "output_type": "execute_result"
    }
   ],
   "source": [
    "\n",
    "(5 > 4) and (3 == 5)            \n",
    "not (5 > 4)                     \n",
    "(5 > 4) or (3 == 5)\n",
    "not ((5 > 4) or (3 == 5))\n",
    "(True and True) and (True == False)\n",
    "(not False) or (not True)"
   ]
  },
  {
   "cell_type": "markdown",
   "id": "8d486095",
   "metadata": {},
   "source": [
    "###### 5. What are the six comparison operators?"
   ]
  },
  {
   "cell_type": "code",
   "execution_count": 5,
   "id": "1d3d50c3",
   "metadata": {},
   "outputs": [],
   "source": [
    "\n",
    "#1 Equalto-equal to (\"==\"):- it checks whethere the given value on the left side of operator is equal to the right side of operator.\n",
    "#2 Not equal to  (\"!=\")   :- it checks whethere the given value is not equal.\n",
    "#3 Greater than  (\">\")    :- it checks whethere the given value is greater.\n",
    "#4 Less than    (\"<\")     :- it checks whethere the given value is less.\n",
    "#5 Greater than equal to(\">=\") :-it checks whethere the given value is Greater or equal to.\n",
    "#6 Less than equal to (\"<=\")  :- it checks whethere the given value is Less or equal to."
   ]
  },
  {
   "cell_type": "markdown",
   "id": "5cd80c4e",
   "metadata": {},
   "source": [
    "###### 6. How do you tell the difference between the equal to and assignment operators?Describe a condition and when you would use one."
   ]
  },
  {
   "cell_type": "code",
   "execution_count": 7,
   "id": "68f66fa2",
   "metadata": {},
   "outputs": [
    {
     "name": "stdout",
     "output_type": "stream",
     "text": [
      " the age is 30\n"
     ]
    }
   ],
   "source": [
    "\n",
    "# Equal to (==) :- Equal to is comparison operator , It checks whethere the given condition is fulfilled or not.\n",
    "\n",
    "# Assignment operator (=) :- it is use to assign the values. it is assign left side value to the variable at right side.\n",
    "\n",
    "#e.g   \n",
    "\n",
    "age=30    # Assignment operator\n",
    "\n",
    "if age==30:  # Equal to \n",
    "    print(\" the age is 30\")\n",
    "    \n",
    "if age== 25:  # Equal to\n",
    "    print(\"the age is 25\")\n",
    "    \n",
    "\n"
   ]
  },
  {
   "cell_type": "markdown",
   "id": "fc8fe8c9",
   "metadata": {
    "scrolled": true
   },
   "source": [
    "###### 7. Identify the three blocks in this code:\n"
   ]
  },
  {
   "cell_type": "code",
   "execution_count": null,
   "id": "abb35c47",
   "metadata": {},
   "outputs": [],
   "source": [
    "#spam = 0\n",
    "#if spam == 10:                  its a 1st block where it checks first condition\n",
    "#    print(eggs)                 --------------------------------------------------------\n",
    "#if spam > 5:                    its a 2nd block and the condition became true here.\n",
    "#    print(bacon)                --------------------------------------------------------\n",
    "#else:                           its a 3rd block of programme. \n",
    "#    print(ham)\n",
    "#    print(spam)\n",
    "#    print(spam)"
   ]
  },
  {
   "cell_type": "markdown",
   "id": "894d090c",
   "metadata": {},
   "source": [
    "###### 8. Write code that prints Hello if 1 is stored in spam, prints Howdy if 2 is stored in spam, and prints Greetings! if anything else is stored in spam.\n"
   ]
  },
  {
   "cell_type": "code",
   "execution_count": 8,
   "id": "121f8d46",
   "metadata": {},
   "outputs": [
    {
     "name": "stdout",
     "output_type": "stream",
     "text": [
      "Hellow\n"
     ]
    }
   ],
   "source": [
    "\n",
    "spam=1\n",
    "if spam==1:\n",
    "    print(\"Hellow\")\n",
    "elif spam==2:\n",
    "    print(\"Howday\")\n",
    "else:\n",
    "    print(\"Greeting\")"
   ]
  },
  {
   "cell_type": "markdown",
   "id": "8376f89f",
   "metadata": {},
   "source": [
    "###### 9.If your programme is stuck in an endless loop, what keys you’ll press?"
   ]
  },
  {
   "cell_type": "code",
   "execution_count": null,
   "id": "74024370",
   "metadata": {},
   "outputs": [],
   "source": [
    "# command To stop an endless loop is CTRL+C . "
   ]
  },
  {
   "cell_type": "markdown",
   "id": "967473b7",
   "metadata": {},
   "source": [
    "###### 10. How can you tell the difference between break and continue?"
   ]
  },
  {
   "cell_type": "code",
   "execution_count": null,
   "id": "47a81e13",
   "metadata": {},
   "outputs": [],
   "source": [
    "# break :- break direct breaks the loop when the given condition became true.\n",
    "#          it terminates the loop.  \n",
    "\n",
    "#e.g:\n",
    "#for i in (1,num):\n",
    "#    if not num%1==0:\n",
    "#        flag=1\n",
    "#        break\n",
    "\n",
    "\n",
    "#continue :- continue just skip the step where condition became true.\n",
    "#            it not going to teminate the loop.\n",
    "\n",
    "#e.g:\n",
    "# for i in range(1,10):\n",
    "#        if i==3 and i==6:\n",
    "#            continue\n",
    "\n"
   ]
  },
  {
   "cell_type": "markdown",
   "id": "6aeb8a5e",
   "metadata": {},
   "source": [
    "###### 11. In a for loop, what is the difference between range(10), range(0, 10), and range(0, 10, 1)?"
   ]
  },
  {
   "cell_type": "code",
   "execution_count": null,
   "id": "1c172b5f",
   "metadata": {},
   "outputs": [],
   "source": [
    "#  Output of all three range() is same and difference is :\n",
    "\n",
    "# range(10) :- Here we pass only one argument therefore python take it as a ending point and print 1 to 9 numbers as output.\n",
    "\n",
    "# range(0,10) :- Here we pass two arguments first one is starting point and second is ending point.\n",
    "\n",
    "# range(0,10,1) :- The third argument in range() is known as steps , pyrhon skips given steps at every iteration."
   ]
  },
  {
   "cell_type": "markdown",
   "id": "488b36b5",
   "metadata": {},
   "source": [
    "###### 12. Write a short program that prints the numbers 1 to 10 using a for loop. Then write an equivalent program that prints the numbers 1 to 10 using a while loop."
   ]
  },
  {
   "cell_type": "code",
   "execution_count": 9,
   "id": "da1db8fa",
   "metadata": {
    "scrolled": true
   },
   "outputs": [
    {
     "name": "stdout",
     "output_type": "stream",
     "text": [
      "1 2 3 4 5 6 7 8 9 10 "
     ]
    }
   ],
   "source": [
    "for i in range(1,11):\n",
    "    print(i,end=' ')"
   ]
  },
  {
   "cell_type": "code",
   "execution_count": 10,
   "id": "4cf964c8",
   "metadata": {},
   "outputs": [
    {
     "name": "stdout",
     "output_type": "stream",
     "text": [
      "1 2 3 4 5 6 7 8 9 10 "
     ]
    }
   ],
   "source": [
    "i=0\n",
    "while i<10:\n",
    "    i=i+1\n",
    "    print(i,end=' ')"
   ]
  },
  {
   "cell_type": "markdown",
   "id": "dcedb54e",
   "metadata": {},
   "source": [
    "###### 13. If you had a function named bacon() inside a module named spam, how would you call it after importing spam?"
   ]
  },
  {
   "cell_type": "code",
   "execution_count": null,
   "id": "a720813d",
   "metadata": {},
   "outputs": [],
   "source": [
    "# spam.bacon()"
   ]
  }
 ],
 "metadata": {
  "kernelspec": {
   "display_name": "Python 3 (ipykernel)",
   "language": "python",
   "name": "python3"
  },
  "language_info": {
   "codemirror_mode": {
    "name": "ipython",
    "version": 3
   },
   "file_extension": ".py",
   "mimetype": "text/x-python",
   "name": "python",
   "nbconvert_exporter": "python",
   "pygments_lexer": "ipython3",
   "version": "3.9.13"
  }
 },
 "nbformat": 4,
 "nbformat_minor": 5
}
